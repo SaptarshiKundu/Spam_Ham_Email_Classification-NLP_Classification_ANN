{
 "cells": [
  {
   "cell_type": "markdown",
   "id": "3005d79f",
   "metadata": {},
   "source": [
    "### Import necessary libraries"
   ]
  },
  {
   "cell_type": "code",
   "execution_count": 1,
   "id": "772980a2",
   "metadata": {},
   "outputs": [],
   "source": [
    "import pandas as pd\n",
    "import nltk\n",
    "import re\n",
    "import time\n",
    "import matplotlib.pyplot as plt\n",
    "from sklearn.feature_extraction.text import TfidfVectorizer\n",
    "from sklearn.model_selection import train_test_split, RandomizedSearchCV\n",
    "from sklearn.ensemble import RandomForestClassifier\n",
    "from sklearn.linear_model import LogisticRegression\n",
    "from sklearn.svm import SVC\n",
    "#nltk.download('wordnet')"
   ]
  },
  {
   "cell_type": "markdown",
   "id": "3471bdb5",
   "metadata": {},
   "source": [
    "### Read data into dataframe"
   ]
  },
  {
   "cell_type": "code",
   "execution_count": 3,
   "id": "0a05e113",
   "metadata": {},
   "outputs": [
    {
     "data": {
      "text/html": [
       "<div>\n",
       "<style scoped>\n",
       "    .dataframe tbody tr th:only-of-type {\n",
       "        vertical-align: middle;\n",
       "    }\n",
       "\n",
       "    .dataframe tbody tr th {\n",
       "        vertical-align: top;\n",
       "    }\n",
       "\n",
       "    .dataframe thead th {\n",
       "        text-align: right;\n",
       "    }\n",
       "</style>\n",
       "<table border=\"1\" class=\"dataframe\">\n",
       "  <thead>\n",
       "    <tr style=\"text-align: right;\">\n",
       "      <th></th>\n",
       "      <th>Subject</th>\n",
       "      <th>Message</th>\n",
       "      <th>label</th>\n",
       "    </tr>\n",
       "  </thead>\n",
       "  <tbody>\n",
       "    <tr>\n",
       "      <th>0</th>\n",
       "      <td>christmas tree farm picture</td>\n",
       "      <td>message text</td>\n",
       "      <td>0</td>\n",
       "    </tr>\n",
       "    <tr>\n",
       "      <th>1</th>\n",
       "      <td>vastar resource inc .</td>\n",
       "      <td>gary production high island large block commen...</td>\n",
       "      <td>0</td>\n",
       "    </tr>\n",
       "    <tr>\n",
       "      <th>2</th>\n",
       "      <td>calpine daily gas nomination</td>\n",
       "      <td>calpine daily gas nomination .</td>\n",
       "      <td>0</td>\n",
       "    </tr>\n",
       "    <tr>\n",
       "      <th>3</th>\n",
       "      <td>issue</td>\n",
       "      <td>fyi see note already . stella forward stella l...</td>\n",
       "      <td>0</td>\n",
       "    </tr>\n",
       "    <tr>\n",
       "      <th>4</th>\n",
       "      <td>meter nov allocation</td>\n",
       "      <td>forward lauri allen hou ect pm kimberly vaughn...</td>\n",
       "      <td>0</td>\n",
       "    </tr>\n",
       "    <tr>\n",
       "      <th>5</th>\n",
       "      <td>mcmullen gas</td>\n",
       "      <td>jackie since inlet river plant shut last day f...</td>\n",
       "      <td>0</td>\n",
       "    </tr>\n",
       "    <tr>\n",
       "      <th>6</th>\n",
       "      <td>meter jan</td>\n",
       "      <td>george need follow jan zero receipt package id...</td>\n",
       "      <td>0</td>\n",
       "    </tr>\n",
       "    <tr>\n",
       "      <th>7</th>\n",
       "      <td>dun number change</td>\n",
       "      <td>fyi forward gary l payne hou ect pm antoine v ...</td>\n",
       "      <td>0</td>\n",
       "    </tr>\n",
       "    <tr>\n",
       "      <th>8</th>\n",
       "      <td>king ranch</td>\n",
       "      <td>two field gas difficulty unify system . cage r...</td>\n",
       "      <td>0</td>\n",
       "    </tr>\n",
       "    <tr>\n",
       "      <th>9</th>\n",
       "      <td>entex transistion</td>\n",
       "      <td>thanks much memo . would like reiterate suppor...</td>\n",
       "      <td>0</td>\n",
       "    </tr>\n",
       "  </tbody>\n",
       "</table>\n",
       "</div>"
      ],
      "text/plain": [
       "                        Subject  \\\n",
       "0   christmas tree farm picture   \n",
       "1         vastar resource inc .   \n",
       "2  calpine daily gas nomination   \n",
       "3                         issue   \n",
       "4          meter nov allocation   \n",
       "5                  mcmullen gas   \n",
       "6                     meter jan   \n",
       "7             dun number change   \n",
       "8                    king ranch   \n",
       "9             entex transistion   \n",
       "\n",
       "                                             Message  label  \n",
       "0                                       message text      0  \n",
       "1  gary production high island large block commen...      0  \n",
       "2                     calpine daily gas nomination .      0  \n",
       "3  fyi see note already . stella forward stella l...      0  \n",
       "4  forward lauri allen hou ect pm kimberly vaughn...      0  \n",
       "5  jackie since inlet river plant shut last day f...      0  \n",
       "6  george need follow jan zero receipt package id...      0  \n",
       "7  fyi forward gary l payne hou ect pm antoine v ...      0  \n",
       "8  two field gas difficulty unify system . cage r...      0  \n",
       "9  thanks much memo . would like reiterate suppor...      0  "
      ]
     },
     "execution_count": 3,
     "metadata": {},
     "output_type": "execute_result"
    }
   ],
   "source": [
    "db=pd.read_csv('data/enron_spam_ham_email_processed_v2.csv')\n",
    "db.head(10)"
   ]
  },
  {
   "cell_type": "markdown",
   "id": "f2ac004c",
   "metadata": {},
   "source": [
    "### Apply Tfidf Vectorization on subject and message data"
   ]
  },
  {
   "cell_type": "code",
   "execution_count": 4,
   "id": "cdde87e4",
   "metadata": {},
   "outputs": [
    {
     "name": "stdout",
     "output_type": "stream",
     "text": [
      "Sparse matrix of size (33665, 13923) has 121410 elements, 0.0259% dense\n",
      "Sparse matrix of size (33665, 128539) has 2744163 elements, 0.0634% dense\n"
     ]
    }
   ],
   "source": [
    "#Apply tfidf on subject data\n",
    "sub_vectorizer=TfidfVectorizer()\n",
    "subject=sub_vectorizer.fit_transform(db['Subject'])\n",
    "nof_elements_sub=int(str(subject.__str__).split(' ')[str(subject.__str__).split(' ').index('stored')-1])\n",
    "print(f'Sparse matrix of size {subject.shape} has {nof_elements_sub} elements, {nof_elements_sub/(subject.shape[0]*subject.shape[1])*100:.4f}% dense')\n",
    "\n",
    "#Apply tfidf on message data\n",
    "msg_vectorizer=TfidfVectorizer()\n",
    "message=msg_vectorizer.fit_transform(db['Message'])\n",
    "nof_elements_msg=int(str(message.__str__).split(' ')[str(message.__str__).split(' ').index('stored')-1])\n",
    "print(f'Sparse matrix of size {message.shape} has {nof_elements_msg} elements, {nof_elements_msg/(message.shape[0]*message.shape[1])*100:.4f}% dense')"
   ]
  },
  {
   "cell_type": "markdown",
   "id": "27831da4",
   "metadata": {},
   "source": [
    "### Split the dataset for both subject and message"
   ]
  },
  {
   "cell_type": "code",
   "execution_count": 5,
   "id": "34dd3e4d",
   "metadata": {},
   "outputs": [],
   "source": [
    "#Subject train-test split\n",
    "X_sub_train, X_sub_test, y_sub_train, y_sub_test = train_test_split(subject, db['label'], test_size=0.33, random_state=42)\n",
    "\n",
    "#Message train-test split\n",
    "X_msg_train, X_msg_test, y_msg_train, y_msg_test = train_test_split(message, db['label'], test_size=0.33, random_state=42)"
   ]
  },
  {
   "cell_type": "markdown",
   "id": "9429000f",
   "metadata": {},
   "source": [
    "### Initialize classifiers"
   ]
  },
  {
   "cell_type": "code",
   "execution_count": 6,
   "id": "ba96171b",
   "metadata": {},
   "outputs": [],
   "source": [
    "#Define random state for repeatable results\n",
    "rnd_state=42\n",
    "\n",
    "#Subject model parameters\n",
    "model_sub_params={\n",
    "    #LogisticRegression Classifier\n",
    "    'lr_sub':{\n",
    "        'model': LogisticRegression(solver='saga',max_iter=1000,penalty='elasticnet',l1_ratio=0.3,random_state=rnd_state,n_jobs=-1),\n",
    "        'params':{'C':[0.1,1,10]}\n",
    "    },\n",
    "    #SupportVectorMachine Classifier\n",
    "    'svm_sub':{\n",
    "        'model':SVC(gamma='scale',class_weight='balanced',random_state=rnd_state),\n",
    "        'params':{'C':[0.01,1,100],'kernel':['linear','rbf','sigmoid']}\n",
    "    },\n",
    "    #RandomForest Classifier\n",
    "    'rf_sub':{\n",
    "        'model':RandomForestClassifier(random_state=rnd_state,n_jobs=-1),\n",
    "        'params':{'n_estimators':[10,30],'max_depth':[5,10,None],'min_samples_split':[2,5],'max_features':['log2',None],'bootstrap':[True,False]}\n",
    "    }\n",
    "}\n",
    "\n",
    "#Message model parameters\n",
    "model_msg_params={\n",
    "    #LogisticRegression Classifier\n",
    "    'lr_msg':{\n",
    "        'model': LogisticRegression(solver='saga',max_iter=1000,penalty='elasticnet',l1_ratio=0.3,random_state=rnd_state,n_jobs=-1),\n",
    "        'params':{'C':[0.1,1,10]}\n",
    "    },\n",
    "    #SupportVectorMachine Classifier\n",
    "    'svm_msg':{\n",
    "        'model':SVC(gamma='scale',class_weight='balanced',random_state=rnd_state),\n",
    "        'params':{'C':[0.01,1,100],'kernel':['linear','rbf','sigmoid']}\n",
    "    },\n",
    "    #RandomForest Classifier\n",
    "    'rf_msg':{\n",
    "        'model':RandomForestClassifier(random_state=rnd_state,n_jobs=-1),\n",
    "        'params':{'n_estimators':[10,30],'max_depth':[5,10,None],'min_samples_split':[2,5],'max_features':['log2',None],'bootstrap':[True,False]}\n",
    "    }\n",
    "}"
   ]
  },
  {
   "cell_type": "markdown",
   "id": "cde9d95f",
   "metadata": {},
   "source": [
    "## Subject training, testing, and scoring\n",
    "### Run models through RandomizedSearchCV and store best parameters"
   ]
  },
  {
   "cell_type": "code",
   "execution_count": 7,
   "id": "2a7fadfd",
   "metadata": {},
   "outputs": [
    {
     "name": "stdout",
     "output_type": "stream",
     "text": [
      "Model lr_sub... Elapsed: 0 m 0 s\n"
     ]
    },
    {
     "name": "stderr",
     "output_type": "stream",
     "text": [
      "C:\\Program Files\\Python39\\lib\\site-packages\\sklearn\\model_selection\\_search.py:285: UserWarning: The total space of parameters 3 is smaller than n_iter=5. Running 3 iterations. For exhaustive searches, use GridSearchCV.\n",
      "  warnings.warn(\n"
     ]
    },
    {
     "name": "stdout",
     "output_type": "stream",
     "text": [
      "Model svm_sub... Elapsed: 1 m 28 s\n",
      "Model rf_sub... Elapsed: 3 m 34 s\n",
      "Total Elapsed: 4 m 1 s\n"
     ]
    }
   ],
   "source": [
    "#Training & Testing - Subject\n",
    "\n",
    "t=time.time()\n",
    "\n",
    "scores_sub=[]\n",
    "models_sub=[]\n",
    "for mdl_name,mdl in model_sub_params.items():\n",
    "    print(f'Model {mdl_name}... Elapsed: {(time.time()-t)//60:.0f} m {(time.time()-t)%60:.0f} s')\n",
    "    scores_sub_model=[]\n",
    "    rscv=RandomizedSearchCV(mdl['model'],mdl['params'],n_iter=5,cv=3,scoring='accuracy',n_jobs=-1)\n",
    "    rscv.fit(X_sub_train,y_sub_train)\n",
    "    models_sub.append(rscv.best_estimator_)\n",
    "    for i in zip(rscv.cv_results_['mean_test_score'],rscv.cv_results_['params']):\n",
    "        scores_sub_model.append(i)\n",
    "    scores_sub.append({'model': mdl_name,\n",
    "                  'best_score': rscv.best_score_,\n",
    "                  'best_params':rscv.best_params_,\n",
    "                  'every_param_comb':scores_sub_model})\n",
    "\n",
    "print(f'Total Elapsed: {(time.time()-t)//60:.0f} m {(time.time()-t)%60:.0f} s')"
   ]
  },
  {
   "cell_type": "markdown",
   "id": "aa080e92",
   "metadata": {},
   "source": [
    "### View best scores and parameters"
   ]
  },
  {
   "cell_type": "code",
   "execution_count": 16,
   "id": "5d36ba0b",
   "metadata": {},
   "outputs": [
    {
     "name": "stdout",
     "output_type": "stream",
     "text": [
      "Alg.      BestScore                                       Corresponding Parameters                                      \n",
      "svm_sub   92.3565   {'kernel': 'rbf', 'C': 1}                                                                           \n",
      "lr_sub    91.5362   {'C': 10}                                                                                           \n",
      "rf_sub    91.2614   {'n_estimators': 10, 'min_samples_split': 5, 'max_features': 'log2', 'max_depth': None, 'bootstrap': False}\n",
      "\n",
      "Best algorithm is svm_sub, accuracy: 92.3565, parameters: {'kernel': 'rbf', 'C': 1}\n"
     ]
    }
   ],
   "source": [
    "#Viewing Scores\n",
    "scr_sub=pd.DataFrame(scores_sub)\n",
    "best_alg=scr_sub.sort_values(by='best_score',ascending=False)\n",
    "print(f\"{'Alg.':<9} {'BestScore':<9} {'Corresponding Parameters':^100}\")\n",
    "for i in range(best_alg.shape[0]):\n",
    "    print(f\"{best_alg.iloc[i,0]:<9} {best_alg.iloc[i,1]*100:<9.4f} {str(best_alg.iloc[i,2]):<100}\")\n",
    "\n",
    "print(f\"\\nBest algorithm is {best_alg.iloc[0,0]}, accuracy: {best_alg.iloc[0,1]*100:0.4f}, parameters: {best_alg.iloc[0,2]}\")\n",
    "\n",
    "#print('Algorithm wise models and corresponding hyperparameter')\n",
    "#for i in range(scr_sub.shape[0]):\n",
    "#    print(f'\\nModel: {scr_sub.iloc[i,:2][0]}, Best_Score: {scr_sub.iloc[i,:2][1]:.4f}')\n",
    "#    print(pd.DataFrame(scr_sub.iloc[i,3],columns=['Score','HyperParameter']).sort_values(by=['Score'],ascending=False))"
   ]
  },
  {
   "cell_type": "markdown",
   "id": "7b26e3f8",
   "metadata": {},
   "source": [
    "### Select best model and view scores along with confusion matrix"
   ]
  },
  {
   "cell_type": "code",
   "execution_count": 17,
   "id": "16331aad",
   "metadata": {},
   "outputs": [
    {
     "name": "stdout",
     "output_type": "stream",
     "text": [
      "Accuracy_subject: 93.7534%\n",
      "\n",
      " Label      Precision     Recall    F1_Score     Support\n",
      "NonSpam      0.9521       0.9184      0.9350      5432\n",
      " Spam        0.9245       0.9558      0.9399      5678\n",
      "\n",
      "Confusion Matrix: \n",
      "\n"
     ]
    },
    {
     "data": {
      "image/png": "[encoded data removed]",
      "text/plain": [
       "<Figure size 432x288 with 2 Axes>"
      ]
     },
     "metadata": {
      "needs_background": "light"
     },
     "output_type": "display_data"
    }
   ],
   "source": [
    "#Selecting best model\n",
    "best_sub_model=models_sub[1]\n",
    "\n",
    "from sklearn.metrics import ConfusionMatrixDisplay\n",
    "from sklearn.metrics import precision_recall_fscore_support\n",
    "from sklearn.metrics import confusion_matrix\n",
    "#Metrics - Accuracy\n",
    "print(f'Accuracy_subject: {best_sub_model.score(X_sub_test,y_sub_test)*100:.4f}%')\n",
    "\n",
    "#Metrics - Precision, Recall and F1_Score\n",
    "y_sub_pred=best_sub_model.predict(X_sub_test)\n",
    "(p,r,f1,s)=precision_recall_fscore_support(y_sub_test, y_sub_pred, average=None, labels=[0,1])\n",
    "labels=['NonSpam','Spam']\n",
    "print(f\"\\n{'Label':^7} {'Precision':^17} {'Recall':^5} {'F1_Score':^15} {'Support'}\")\n",
    "for i in range(len(labels)):\n",
    "    print(f\"{labels[i]:^7}{p[i]:^19.4f}{r[i]:^7.4f}{f1[i]:^17.4f}{s[i]}\")\n",
    "\n",
    "#Metrics - Confusion Matrix\n",
    "print(f'\\nConfusion Matrix: \\n')\n",
    "disp = ConfusionMatrixDisplay(confusion_matrix=confusion_matrix(y_sub_test,y_sub_pred),display_labels=labels)\n",
    "disp.plot(cmap='Greens')\n",
    "plt.show()"
   ]
  },
  {
   "cell_type": "markdown",
   "id": "f3526315",
   "metadata": {},
   "source": [
    "## Message training, testing, and scoring\n",
    "### Run models through RandomizedSearchCV and store best parameters"
   ]
  },
  {
   "cell_type": "code",
   "execution_count": 12,
   "id": "9f489aa0",
   "metadata": {},
   "outputs": [
    {
     "name": "stdout",
     "output_type": "stream",
     "text": [
      "Model lr_msg... Elapsed: 0 m 0 s\n"
     ]
    },
    {
     "name": "stderr",
     "output_type": "stream",
     "text": [
      "C:\\Program Files\\Python39\\lib\\site-packages\\sklearn\\model_selection\\_search.py:285: UserWarning: The total space of parameters 3 is smaller than n_iter=5. Running 3 iterations. For exhaustive searches, use GridSearchCV.\n",
      "  warnings.warn(\n"
     ]
    },
    {
     "name": "stdout",
     "output_type": "stream",
     "text": [
      "Model svm_msg... Elapsed: 1 m 54 s\n",
      "Model rf_msg... Elapsed: 9 m 56 s\n",
      "Total Elapsed: 10 m 16 s\n"
     ]
    }
   ],
   "source": [
    "#Training & Testing - Message\n",
    "t=time.time()\n",
    "\n",
    "scores_msg=[]\n",
    "models_msg=[]\n",
    "for mdl_name,mdl in model_msg_params.items():\n",
    "    print(f'Model {mdl_name}... Elapsed: {(time.time()-t)//60:.0f} m {(time.time()-t)%60:.0f} s')\n",
    "    scores_msg_model=[]\n",
    "    rscv=RandomizedSearchCV(mdl['model'],mdl['params'],n_iter=5,cv=3,scoring='accuracy',n_jobs=-1)\n",
    "    rscv.fit(X_msg_train,y_msg_train)\n",
    "    models_msg.append(rscv.best_estimator_)\n",
    "    for i in zip(rscv.cv_results_['mean_test_score'],rscv.cv_results_['params']):\n",
    "        scores_msg_model.append(i)\n",
    "    scores_msg.append({'model': mdl_name,\n",
    "                  'best_score': rscv.best_score_,\n",
    "                  'best_params':rscv.best_params_,\n",
    "                  'every_param_comb':scores_msg_model})\n",
    "\n",
    "print(f'Total Elapsed: {(time.time()-t)//60:.0f} m {(time.time()-t)%60:.0f} s')"
   ]
  },
  {
   "cell_type": "markdown",
   "id": "2e022bf7",
   "metadata": {},
   "source": [
    "### View best scores and parameters"
   ]
  },
  {
   "cell_type": "code",
   "execution_count": 13,
   "id": "2e88a111",
   "metadata": {},
   "outputs": [
    {
     "name": "stdout",
     "output_type": "stream",
     "text": [
      "Alg.      BestScore                                       Corresponding Parameters                                      \n",
      "svm_msg   98.3773   {'kernel': 'linear', 'C': 1}                                                                        \n",
      "lr_msg    98.1024   {'C': 10}                                                                                           \n",
      "rf_msg    96.2758   {'n_estimators': 10, 'min_samples_split': 5, 'max_features': 'log2', 'max_depth': None, 'bootstrap': False}\n",
      "\n",
      "Best algorithm is svm_msg, accuracy: 98.3773, parameters: {'kernel': 'linear', 'C': 1}\n"
     ]
    }
   ],
   "source": [
    "#Viewing Scores\n",
    "scr_msg=pd.DataFrame(scores_msg)\n",
    "best_alg=scr_msg.sort_values(by='best_score',ascending=False)\n",
    "print(f\"{'Alg.':<9} {'BestScore':<9} {'Corresponding Parameters':^100}\")\n",
    "for i in range(best_alg.shape[0]):\n",
    "    print(f\"{best_alg.iloc[i,0]:<9} {best_alg.iloc[i,1]*100:<9.4f} {str(best_alg.iloc[i,2]):<100}\")\n",
    "\n",
    "print(f\"\\nBest algorithm is {best_alg.iloc[0,0]}, accuracy: {best_alg.iloc[0,1]*100:0.4f}, parameters: {best_alg.iloc[0,2]}\")\n",
    "\n",
    "#print('Algorithm wise models and corresponding hyperparameter')\n",
    "#for i in range(scr_sub.shape[0]):\n",
    "#    print(f'\\nModel: {scr_sub.iloc[i,:2][0]}, Best_Score: {scr_sub.iloc[i,:2][1]:.4f}')\n",
    "#    print(pd.DataFrame(scr_sub.iloc[i,3],columns=['Score','HyperParameter']).sort_values(by=['Score'],ascending=False))"
   ]
  },
  {
   "cell_type": "markdown",
   "id": "410cfa39",
   "metadata": {},
   "source": [
    "### Select best model and view scores along with confusion matrix"
   ]
  },
  {
   "cell_type": "code",
   "execution_count": 14,
   "id": "79e9a6b1",
   "metadata": {},
   "outputs": [
    {
     "name": "stdout",
     "output_type": "stream",
     "text": [
      "Accuracy_message: 98.5059%\n",
      "\n",
      " Label      Precision     Recall    F1_Score     Support\n",
      "NonSpam      0.9946       0.9748      0.9846      5432\n",
      " Spam        0.9763       0.9949      0.9855      5678\n",
      "\n",
      "Confusion Matrix: \n",
      "\n"
     ]
    },
    {
     "data": {
      "image/png": "[encoded data removed]",
      "text/plain": [
       "<Figure size 432x288 with 2 Axes>"
      ]
     },
     "metadata": {
      "needs_background": "light"
     },
     "output_type": "display_data"
    }
   ],
   "source": [
    "#Selecting best model\n",
    "best_msg_model=models_msg[1]\n",
    "\n",
    "from sklearn.metrics import precision_recall_fscore_support\n",
    "from sklearn.metrics import confusion_matrix\n",
    "#Metrics - Accuracy\n",
    "print(f'Accuracy_message: {best_msg_model.score(X_msg_test,y_msg_test)*100:.4f}%')\n",
    "\n",
    "#Metrics - Precision, Recall and F1_Score\n",
    "y_msg_pred=best_msg_model.predict(X_msg_test)\n",
    "(p,r,f1,s)=precision_recall_fscore_support(y_msg_test, y_msg_pred, average=None, labels=[0,1])\n",
    "labels=['NonSpam','Spam']\n",
    "print(f\"\\n{'Label':^7} {'Precision':^17} {'Recall':^5} {'F1_Score':^15} {'Support'}\")\n",
    "for i in range(len(labels)):\n",
    "    print(f\"{labels[i]:^7}{p[i]:^19.4f}{r[i]:^7.4f}{f1[i]:^17.4f}{s[i]}\")\n",
    "    \n",
    "#Metrics - Confusion Matrix\n",
    "print(f'\\nConfusion Matrix: \\n')\n",
    "disp = ConfusionMatrixDisplay(confusion_matrix=confusion_matrix(y_msg_test,y_msg_pred),display_labels=labels)\n",
    "disp.plot(cmap='Greens')\n",
    "plt.show()"
   ]
  }
 ],
 "metadata": {
  "kernelspec": {
   "display_name": "Python 3 (ipykernel)",
   "language": "python",
   "name": "python3"
  },
  "language_info": {
   "codemirror_mode": {
    "name": "ipython",
    "version": 3
   },
   "file_extension": ".py",
   "mimetype": "text/x-python",
   "name": "python",
   "nbconvert_exporter": "python",
   "pygments_lexer": "ipython3",
   "version": "3.9.0"
  }
 },
 "nbformat": 4,
 "nbformat_minor": 5
}
