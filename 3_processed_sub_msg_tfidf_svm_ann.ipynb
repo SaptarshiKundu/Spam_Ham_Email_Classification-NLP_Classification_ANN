{
 "cells": [
  {
   "cell_type": "markdown",
   "metadata": {},
   "source": [
    "### Import necessary libraries"
   ]
  },
  {
   "cell_type": "code",
   "execution_count": 1,
   "metadata": {},
   "outputs": [],
   "source": [
    "import numpy as np\n",
    "import pandas as pd\n",
    "from sklearn.feature_extraction.text import TfidfVectorizer\n",
    "from sklearn.model_selection import train_test_split\n",
    "from keras.layers import Dense\n",
    "from keras.models import Sequential\n",
    "from sklearn.metrics import confusion_matrix\n",
    "import matplotlib.pyplot as plt"
   ]
  },
  {
   "cell_type": "markdown",
   "metadata": {},
   "source": [
    "### Read data into dataframe"
   ]
  },
  {
   "cell_type": "code",
   "execution_count": 2,
   "metadata": {},
   "outputs": [
    {
     "data": {
      "text/html": [
       "<div>\n",
       "<style scoped>\n",
       "    .dataframe tbody tr th:only-of-type {\n",
       "        vertical-align: middle;\n",
       "    }\n",
       "\n",
       "    .dataframe tbody tr th {\n",
       "        vertical-align: top;\n",
       "    }\n",
       "\n",
       "    .dataframe thead th {\n",
       "        text-align: right;\n",
       "    }\n",
       "</style>\n",
       "<table border=\"1\" class=\"dataframe\">\n",
       "  <thead>\n",
       "    <tr style=\"text-align: right;\">\n",
       "      <th></th>\n",
       "      <th>Subject</th>\n",
       "      <th>Message</th>\n",
       "      <th>label</th>\n",
       "    </tr>\n",
       "  </thead>\n",
       "  <tbody>\n",
       "    <tr>\n",
       "      <th>0</th>\n",
       "      <td>christmas tree farm picture</td>\n",
       "      <td>message text</td>\n",
       "      <td>0</td>\n",
       "    </tr>\n",
       "    <tr>\n",
       "      <th>1</th>\n",
       "      <td>vastar resource inc .</td>\n",
       "      <td>gary production high island large block commen...</td>\n",
       "      <td>0</td>\n",
       "    </tr>\n",
       "    <tr>\n",
       "      <th>2</th>\n",
       "      <td>calpine daily gas nomination</td>\n",
       "      <td>calpine daily gas nomination .</td>\n",
       "      <td>0</td>\n",
       "    </tr>\n",
       "    <tr>\n",
       "      <th>3</th>\n",
       "      <td>issue</td>\n",
       "      <td>fyi see note already . stella forward stella l...</td>\n",
       "      <td>0</td>\n",
       "    </tr>\n",
       "    <tr>\n",
       "      <th>4</th>\n",
       "      <td>meter nov allocation</td>\n",
       "      <td>forward lauri allen hou ect pm kimberly vaughn...</td>\n",
       "      <td>0</td>\n",
       "    </tr>\n",
       "    <tr>\n",
       "      <th>...</th>\n",
       "      <td>...</td>\n",
       "      <td>...</td>\n",
       "      <td>...</td>\n",
       "    </tr>\n",
       "    <tr>\n",
       "      <th>33660</th>\n",
       "      <td>iso q good news c edaliss val edumm vl eoggra</td>\n",
       "      <td>hello welcome gigapharm onlinne shop . prescri...</td>\n",
       "      <td>1</td>\n",
       "    </tr>\n",
       "    <tr>\n",
       "      <th>33661</th>\n",
       "      <td>prescript medicine special . precise put buck ...</td>\n",
       "      <td>get early expect wrap cautiously . impressed s...</td>\n",
       "      <td>1</td>\n",
       "    </tr>\n",
       "    <tr>\n",
       "      <th>33662</th>\n",
       "      <td>next generation online pharmacy .</td>\n",
       "      <td>ready rock let man rise solitude show u societ...</td>\n",
       "      <td>1</td>\n",
       "    </tr>\n",
       "    <tr>\n",
       "      <th>33663</th>\n",
       "      <td>bloow time time</td>\n",
       "      <td>learn last time longer bed . read plod .</td>\n",
       "      <td>1</td>\n",
       "    </tr>\n",
       "    <tr>\n",
       "      <th>33664</th>\n",
       "      <td>dear sir interested</td>\n",
       "      <td>hi need software give link http zk . com best ...</td>\n",
       "      <td>1</td>\n",
       "    </tr>\n",
       "  </tbody>\n",
       "</table>\n",
       "<p>33665 rows × 3 columns</p>\n",
       "</div>"
      ],
      "text/plain": [
       "                                                 Subject  \\\n",
       "0                            christmas tree farm picture   \n",
       "1                                  vastar resource inc .   \n",
       "2                           calpine daily gas nomination   \n",
       "3                                                  issue   \n",
       "4                                   meter nov allocation   \n",
       "...                                                  ...   \n",
       "33660      iso q good news c edaliss val edumm vl eoggra   \n",
       "33661  prescript medicine special . precise put buck ...   \n",
       "33662                  next generation online pharmacy .   \n",
       "33663                                    bloow time time   \n",
       "33664                                dear sir interested   \n",
       "\n",
       "                                                 Message  label  \n",
       "0                                           message text      0  \n",
       "1      gary production high island large block commen...      0  \n",
       "2                         calpine daily gas nomination .      0  \n",
       "3      fyi see note already . stella forward stella l...      0  \n",
       "4      forward lauri allen hou ect pm kimberly vaughn...      0  \n",
       "...                                                  ...    ...  \n",
       "33660  hello welcome gigapharm onlinne shop . prescri...      1  \n",
       "33661  get early expect wrap cautiously . impressed s...      1  \n",
       "33662  ready rock let man rise solitude show u societ...      1  \n",
       "33663           learn last time longer bed . read plod .      1  \n",
       "33664  hi need software give link http zk . com best ...      1  \n",
       "\n",
       "[33665 rows x 3 columns]"
      ]
     },
     "execution_count": 2,
     "metadata": {},
     "output_type": "execute_result"
    }
   ],
   "source": [
    "df = pd.read_csv(\"data/enron_spam_ham_email_processed_v2.csv\")\n",
    "df"
   ]
  },
  {
   "cell_type": "markdown",
   "metadata": {},
   "source": [
    "## Subject\n",
    "### Applying Tfidf Vectorization on subject data\n"
   ]
  },
  {
   "cell_type": "markdown",
   "metadata": {},
   "source": []
  },
  {
   "cell_type": "code",
   "execution_count": 3,
   "metadata": {},
   "outputs": [
    {
     "name": "stdout",
     "output_type": "stream",
     "text": [
      "Sparse matrix of size (33665, 13923) has 121410 elements, 0.0259% dense\n"
     ]
    }
   ],
   "source": [
    "sub_vectorizer=TfidfVectorizer()\n",
    "subject=sub_vectorizer.fit_transform(df['Subject'])\n",
    "nof_elements_sub=int(str(subject.__str__).split(' ')[str(subject.__str__).split(' ').index('stored')-1])\n",
    "print(f'Sparse matrix of size {subject.shape} has {nof_elements_sub} elements, {nof_elements_sub/(subject.shape[0]*subject.shape[1])*100:.4f}% dense')"
   ]
  },
  {
   "cell_type": "markdown",
   "metadata": {},
   "source": [
    "### Splitting the dataset into training and testing data"
   ]
  },
  {
   "cell_type": "code",
   "execution_count": 4,
   "metadata": {},
   "outputs": [],
   "source": [
    "X_sub_train, X_sub_test, y_sub_train, y_sub_test = train_test_split(subject, df['label'], test_size=0.33, random_state=42)\n",
    "X_sub_train_array = X_sub_train.toarray()\n",
    "y_sub_train_array = y_sub_train.to_numpy()\n",
    "X_sub_test_array = X_sub_test.toarray()\n",
    "y_sub_test_array = y_sub_test.to_numpy()"
   ]
  },
  {
   "cell_type": "markdown",
   "metadata": {},
   "source": [
    "## Artificial Neural Network"
   ]
  },
  {
   "cell_type": "markdown",
   "metadata": {},
   "source": [
    "### Defining the model"
   ]
  },
  {
   "cell_type": "code",
   "execution_count": 5,
   "metadata": {},
   "outputs": [],
   "source": [
    "# size/shape of dataframe\n",
    "n_samples = X_sub_train_array.shape[0]\n",
    "n_features = X_sub_train_array.shape[1]"
   ]
  },
  {
   "cell_type": "code",
   "execution_count": 6,
   "metadata": {},
   "outputs": [],
   "source": [
    "# define and initialize the model\n",
    "my_sub_classifier = Sequential()\n",
    "\n",
    "# Adding the input layer AND the first hidden layer\n",
    "my_sub_classifier.add(Dense(units = 20, kernel_initializer = 'uniform',\n",
    "                        activation = 'tanh', input_dim = n_features))\n",
    "\n",
    "# Adding the second hidden layer\n",
    "my_sub_classifier.add(Dense(units = 8, kernel_initializer = 'uniform',\n",
    "                                                    activation = 'sigmoid'))\n",
    "\n",
    "# Adding the last (output) layer\n",
    "my_sub_classifier.add(Dense(units = 1, kernel_initializer = 'uniform',\n",
    "                        activation = 'sigmoid'))\n",
    "\n",
    "# Compiling the ANN\n",
    "my_sub_classifier.compile(optimizer = 'adam', loss = 'binary_crossentropy',\n",
    "                      metrics = ['accuracy'])"
   ]
  },
  {
   "cell_type": "code",
   "execution_count": 7,
   "metadata": {},
   "outputs": [
    {
     "name": "stdout",
     "output_type": "stream",
     "text": [
      "Model: \"sequential\"\n",
      "_________________________________________________________________\n",
      " Layer (type)                Output Shape              Param #   \n",
      "=================================================================\n",
      " dense (Dense)               (None, 20)                278480    \n",
      "                                                                 \n",
      " dense_1 (Dense)             (None, 8)                 168       \n",
      "                                                                 \n",
      " dense_2 (Dense)             (None, 1)                 9         \n",
      "                                                                 \n",
      "=================================================================\n",
      "Total params: 278,657\n",
      "Trainable params: 278,657\n",
      "Non-trainable params: 0\n",
      "_________________________________________________________________\n",
      "None\n"
     ]
    }
   ],
   "source": [
    "# Display the model\n",
    "print (my_sub_classifier.summary())"
   ]
  },
  {
   "cell_type": "markdown",
   "metadata": {},
   "source": [
    "### Training the ANN with the training dataset"
   ]
  },
  {
   "cell_type": "code",
   "execution_count": 8,
   "metadata": {},
   "outputs": [
    {
     "name": "stdout",
     "output_type": "stream",
     "text": [
      "Epoch 1/50\n",
      "1805/1805 [==============================] - 11s 6ms/step - loss: 0.4084 - accuracy: 0.8253 - val_loss: 0.2270 - val_accuracy: 0.9178\n",
      "Epoch 2/50\n",
      "1805/1805 [==============================] - 10s 5ms/step - loss: 0.1649 - accuracy: 0.9451 - val_loss: 0.1997 - val_accuracy: 0.9222\n",
      "Epoch 3/50\n",
      "1805/1805 [==============================] - 9s 5ms/step - loss: 0.1149 - accuracy: 0.9602 - val_loss: 0.1994 - val_accuracy: 0.9249\n",
      "Epoch 4/50\n",
      "1805/1805 [==============================] - 9s 5ms/step - loss: 0.0946 - accuracy: 0.9669 - val_loss: 0.2083 - val_accuracy: 0.9189\n",
      "Epoch 5/50\n",
      "1805/1805 [==============================] - 9s 5ms/step - loss: 0.0833 - accuracy: 0.9710 - val_loss: 0.2232 - val_accuracy: 0.9175\n",
      "Epoch 6/50\n",
      "1805/1805 [==============================] - 9s 5ms/step - loss: 0.0772 - accuracy: 0.9716 - val_loss: 0.2209 - val_accuracy: 0.9235\n",
      "Epoch 7/50\n",
      "1805/1805 [==============================] - 9s 5ms/step - loss: 0.0728 - accuracy: 0.9726 - val_loss: 0.2360 - val_accuracy: 0.9147\n",
      "Epoch 8/50\n",
      "1805/1805 [==============================] - 8s 5ms/step - loss: 0.0696 - accuracy: 0.9741 - val_loss: 0.2350 - val_accuracy: 0.9211\n",
      "Epoch 9/50\n",
      "1805/1805 [==============================] - 9s 5ms/step - loss: 0.0677 - accuracy: 0.9746 - val_loss: 0.2407 - val_accuracy: 0.9249\n",
      "Epoch 10/50\n",
      "1805/1805 [==============================] - 9s 5ms/step - loss: 0.0658 - accuracy: 0.9750 - val_loss: 0.2492 - val_accuracy: 0.9178\n",
      "Epoch 11/50\n",
      "1805/1805 [==============================] - 9s 5ms/step - loss: 0.0646 - accuracy: 0.9752 - val_loss: 0.2540 - val_accuracy: 0.9162\n",
      "Epoch 12/50\n",
      "1805/1805 [==============================] - 9s 5ms/step - loss: 0.0630 - accuracy: 0.9747 - val_loss: 0.2583 - val_accuracy: 0.9204\n",
      "Epoch 13/50\n",
      "1805/1805 [==============================] - 9s 5ms/step - loss: 0.0625 - accuracy: 0.9750 - val_loss: 0.2609 - val_accuracy: 0.9237\n",
      "Epoch 14/50\n",
      "1805/1805 [==============================] - 9s 5ms/step - loss: 0.0615 - accuracy: 0.9751 - val_loss: 0.2654 - val_accuracy: 0.9155\n",
      "Epoch 15/50\n",
      "1805/1805 [==============================] - 9s 5ms/step - loss: 0.0607 - accuracy: 0.9750 - val_loss: 0.2645 - val_accuracy: 0.9162\n",
      "Epoch 16/50\n",
      "1805/1805 [==============================] - 8s 4ms/step - loss: 0.0604 - accuracy: 0.9752 - val_loss: 0.2633 - val_accuracy: 0.9231\n",
      "Epoch 17/50\n",
      "1805/1805 [==============================] - 9s 5ms/step - loss: 0.0599 - accuracy: 0.9762 - val_loss: 0.2673 - val_accuracy: 0.9233\n",
      "Epoch 18/50\n",
      "1805/1805 [==============================] - 9s 5ms/step - loss: 0.0588 - accuracy: 0.9763 - val_loss: 0.2729 - val_accuracy: 0.9158\n",
      "Epoch 19/50\n",
      "1805/1805 [==============================] - 9s 5ms/step - loss: 0.0588 - accuracy: 0.9750 - val_loss: 0.2713 - val_accuracy: 0.9209\n",
      "Epoch 20/50\n",
      "1805/1805 [==============================] - 9s 5ms/step - loss: 0.0586 - accuracy: 0.9756 - val_loss: 0.2705 - val_accuracy: 0.9189\n",
      "Epoch 21/50\n",
      "1805/1805 [==============================] - 9s 5ms/step - loss: 0.0579 - accuracy: 0.9754 - val_loss: 0.2758 - val_accuracy: 0.9164\n",
      "Epoch 22/50\n",
      "1805/1805 [==============================] - 9s 5ms/step - loss: 0.0575 - accuracy: 0.9752 - val_loss: 0.2740 - val_accuracy: 0.9220\n",
      "Epoch 23/50\n",
      "1805/1805 [==============================] - 9s 5ms/step - loss: 0.0570 - accuracy: 0.9768 - val_loss: 0.2780 - val_accuracy: 0.9222\n",
      "Epoch 24/50\n",
      "1805/1805 [==============================] - 9s 5ms/step - loss: 0.0569 - accuracy: 0.9767 - val_loss: 0.2757 - val_accuracy: 0.9211\n",
      "Epoch 25/50\n",
      "1805/1805 [==============================] - 9s 5ms/step - loss: 0.0566 - accuracy: 0.9761 - val_loss: 0.2766 - val_accuracy: 0.9211\n",
      "Epoch 26/50\n",
      "1805/1805 [==============================] - 9s 5ms/step - loss: 0.0562 - accuracy: 0.9761 - val_loss: 0.2792 - val_accuracy: 0.9215\n",
      "Epoch 27/50\n",
      "1805/1805 [==============================] - 9s 5ms/step - loss: 0.0557 - accuracy: 0.9761 - val_loss: 0.2803 - val_accuracy: 0.9215\n",
      "Epoch 28/50\n",
      "1805/1805 [==============================] - 9s 5ms/step - loss: 0.0554 - accuracy: 0.9774 - val_loss: 0.2846 - val_accuracy: 0.9217\n",
      "Epoch 29/50\n",
      "1805/1805 [==============================] - 9s 5ms/step - loss: 0.0553 - accuracy: 0.9771 - val_loss: 0.2749 - val_accuracy: 0.9220\n",
      "Epoch 30/50\n",
      "1805/1805 [==============================] - 9s 5ms/step - loss: 0.0551 - accuracy: 0.9763 - val_loss: 0.2826 - val_accuracy: 0.9224\n",
      "Epoch 31/50\n",
      "1805/1805 [==============================] - 9s 5ms/step - loss: 0.0547 - accuracy: 0.9773 - val_loss: 0.2852 - val_accuracy: 0.9204\n",
      "Epoch 32/50\n",
      "1805/1805 [==============================] - 9s 5ms/step - loss: 0.0542 - accuracy: 0.9768 - val_loss: 0.2798 - val_accuracy: 0.9229\n",
      "Epoch 33/50\n",
      "1805/1805 [==============================] - 9s 5ms/step - loss: 0.0538 - accuracy: 0.9767 - val_loss: 0.2814 - val_accuracy: 0.9220\n",
      "Epoch 34/50\n",
      "1805/1805 [==============================] - 9s 5ms/step - loss: 0.0534 - accuracy: 0.9772 - val_loss: 0.2899 - val_accuracy: 0.9229\n",
      "Epoch 35/50\n",
      "1805/1805 [==============================] - 9s 5ms/step - loss: 0.0532 - accuracy: 0.9764 - val_loss: 0.2900 - val_accuracy: 0.9220\n",
      "Epoch 36/50\n",
      "1805/1805 [==============================] - 9s 5ms/step - loss: 0.0527 - accuracy: 0.9766 - val_loss: 0.2942 - val_accuracy: 0.9209\n",
      "Epoch 37/50\n",
      "1805/1805 [==============================] - 9s 5ms/step - loss: 0.0527 - accuracy: 0.9766 - val_loss: 0.2970 - val_accuracy: 0.9224\n",
      "Epoch 38/50\n",
      "1805/1805 [==============================] - 9s 5ms/step - loss: 0.0526 - accuracy: 0.9761 - val_loss: 0.2979 - val_accuracy: 0.9220\n",
      "Epoch 39/50\n",
      "1805/1805 [==============================] - 9s 5ms/step - loss: 0.0523 - accuracy: 0.9763 - val_loss: 0.2960 - val_accuracy: 0.9206\n",
      "Epoch 40/50\n",
      "1805/1805 [==============================] - 9s 5ms/step - loss: 0.0519 - accuracy: 0.9758 - val_loss: 0.3007 - val_accuracy: 0.9222\n",
      "Epoch 41/50\n",
      "1805/1805 [==============================] - 9s 5ms/step - loss: 0.0520 - accuracy: 0.9764 - val_loss: 0.3021 - val_accuracy: 0.9209\n",
      "Epoch 42/50\n",
      "1805/1805 [==============================] - 9s 5ms/step - loss: 0.0516 - accuracy: 0.9770 - val_loss: 0.2991 - val_accuracy: 0.9222\n",
      "Epoch 43/50\n",
      "1805/1805 [==============================] - 10s 5ms/step - loss: 0.0517 - accuracy: 0.9761 - val_loss: 0.2946 - val_accuracy: 0.9213\n",
      "Epoch 44/50\n",
      "1805/1805 [==============================] - 9s 5ms/step - loss: 0.0512 - accuracy: 0.9772 - val_loss: 0.3039 - val_accuracy: 0.9213\n",
      "Epoch 45/50\n",
      "1805/1805 [==============================] - 9s 5ms/step - loss: 0.0514 - accuracy: 0.9772 - val_loss: 0.3031 - val_accuracy: 0.9220\n",
      "Epoch 46/50\n",
      "1805/1805 [==============================] - 10s 5ms/step - loss: 0.0512 - accuracy: 0.9768 - val_loss: 0.3096 - val_accuracy: 0.9206\n",
      "Epoch 47/50\n",
      "1805/1805 [==============================] - 10s 5ms/step - loss: 0.0512 - accuracy: 0.9766 - val_loss: 0.3055 - val_accuracy: 0.9209\n",
      "Epoch 48/50\n",
      "1805/1805 [==============================] - 10s 5ms/step - loss: 0.0511 - accuracy: 0.9768 - val_loss: 0.3150 - val_accuracy: 0.9220\n",
      "Epoch 49/50\n",
      "1805/1805 [==============================] - 10s 5ms/step - loss: 0.0510 - accuracy: 0.9772 - val_loss: 0.3045 - val_accuracy: 0.9206\n",
      "Epoch 50/50\n",
      "1805/1805 [==============================] - 10s 5ms/step - loss: 0.0507 - accuracy: 0.9775 - val_loss: 0.2984 - val_accuracy: 0.9206\n"
     ]
    }
   ],
   "source": [
    "sub_history = my_sub_classifier.fit(X_sub_train_array, y_sub_train_array, validation_split=0.2,\n",
    "                            batch_size = 10, epochs = 50)"
   ]
  },
  {
   "cell_type": "markdown",
   "metadata": {},
   "source": [
    "### List all the data in history"
   ]
  },
  {
   "cell_type": "code",
   "execution_count": 9,
   "metadata": {},
   "outputs": [
    {
     "name": "stdout",
     "output_type": "stream",
     "text": [
      "dict_keys(['loss', 'accuracy', 'val_loss', 'val_accuracy'])\n"
     ]
    }
   ],
   "source": [
    "print(sub_history.history.keys())"
   ]
  },
  {
   "cell_type": "code",
   "execution_count": 10,
   "metadata": {},
   "outputs": [
    {
     "data": {
      "image/png": "[encoded data removed]",
      "text/plain": [
       "<Figure size 432x288 with 1 Axes>"
      ]
     },
     "metadata": {
      "needs_background": "light"
     },
     "output_type": "display_data"
    }
   ],
   "source": [
    "# Plot the accuracy for both train and validation set\n",
    "plt.subplots() # open a new plot\n",
    "plt.plot(sub_history.history['accuracy'])\n",
    "plt.plot(sub_history.history['val_accuracy'])\n",
    "plt.title('model accuracy')\n",
    "plt.ylabel('accuracy')\n",
    "plt.xlabel('epoch')\n",
    "plt.legend(['train', 'validation'])\n",
    "plt.show()"
   ]
  },
  {
   "cell_type": "code",
   "execution_count": 11,
   "metadata": {},
   "outputs": [
    {
     "data": {
      "image/png": "[encoded data removed]",
      "text/plain": [
       "<Figure size 432x288 with 1 Axes>"
      ]
     },
     "metadata": {
      "needs_background": "light"
     },
     "output_type": "display_data"
    }
   ],
   "source": [
    "# Plot the loss for both train and validation set\n",
    "plt.subplots() # open a new plot\n",
    "plt.plot(sub_history.history['loss'])\n",
    "plt.plot(sub_history.history['val_loss'])\n",
    "plt.title('model loss')\n",
    "plt.ylabel('loss')\n",
    "plt.xlabel('epoch')\n",
    "plt.legend(['train', 'validation'])\n",
    "plt.show()"
   ]
  },
  {
   "cell_type": "markdown",
   "metadata": {},
   "source": [
    "### Making predictions with the model"
   ]
  },
  {
   "cell_type": "code",
   "execution_count": 12,
   "metadata": {},
   "outputs": [],
   "source": [
    "# Predicting the Train set results\n",
    "#y_sub_pred_train = my_sub_classifier.predict(X_sub_train_array)\n",
    "#y_sub_pred_train = (y_sub_pred_train > 0.5)\n",
    "\n",
    "# Predicting the Test set results\n",
    "y_sub_pred_test = my_sub_classifier.predict(X_sub_test_array)\n",
    "y_sub_pred_test = (y_sub_pred_test > 0.5)"
   ]
  },
  {
   "cell_type": "markdown",
   "metadata": {},
   "source": [
    "### Metrics"
   ]
  },
  {
   "cell_type": "code",
   "execution_count": 13,
   "metadata": {},
   "outputs": [
    {
     "name": "stdout",
     "output_type": "stream",
     "text": [
      "Accuracy: 91.5212%\n",
      "\n",
      " Label      Precision     Recall    F1_Score     Support\n",
      "NonSpam      0.9122       0.9146      0.9134      5432\n",
      " Spam        0.9181       0.9158      0.9169      5678\n",
      "\n",
      "Confusion Matrix: \n",
      "\n"
     ]
    },
    {
     "data": {
      "image/png": "[encoded data removed]",
      "text/plain": [
       "<Figure size 432x288 with 2 Axes>"
      ]
     },
     "metadata": {
      "needs_background": "light"
     },
     "output_type": "display_data"
    }
   ],
   "source": [
    "from sklearn.metrics import accuracy_score\n",
    "from sklearn.metrics import precision_recall_fscore_support\n",
    "from sklearn.metrics import confusion_matrix\n",
    "from sklearn.metrics import ConfusionMatrixDisplay\n",
    "\n",
    "#Metrics - Accuracy\n",
    "print(f'Accuracy: {accuracy_score(y_sub_test,y_sub_pred_test)*100:.4f}%')\n",
    "\n",
    "#Metrics - Precision, Recall and F1_Score\n",
    "(p,r,f1,s)=precision_recall_fscore_support(y_sub_test, y_sub_pred_test, average=None, labels=[0,1])\n",
    "labels=['NonSpam','Spam']\n",
    "print(f\"\\n{'Label':^7} {'Precision':^17} {'Recall':^5} {'F1_Score':^15} {'Support'}\")\n",
    "for i in range(len(labels)):\n",
    "    print(f\"{labels[i]:^7}{p[i]:^19.4f}{r[i]:^7.4f}{f1[i]:^17.4f}{s[i]}\")\n",
    "\n",
    "#Metrics - Confusion Matrix\n",
    "print(f'\\nConfusion Matrix: \\n')\n",
    "disp = ConfusionMatrixDisplay(confusion_matrix=confusion_matrix(y_sub_test,y_sub_pred_test),display_labels=labels)\n",
    "disp.plot(cmap='Greens')\n",
    "plt.show()"
   ]
  },
  {
   "cell_type": "markdown",
   "metadata": {},
   "source": [
    "## SVM training, testing, and scoring"
   ]
  },
  {
   "cell_type": "code",
   "execution_count": 14,
   "metadata": {},
   "outputs": [
    {
     "name": "stdout",
     "output_type": "stream",
     "text": [
      "Accuracy_subject: 93.7534%\n",
      "\n",
      " Label      Precision     Recall    F1_Score     Support\n",
      "NonSpam      0.9521       0.9184      0.9350      5432\n",
      " Spam        0.9245       0.9558      0.9399      5678\n",
      "\n",
      "Confusion Matrix: \n",
      "\n"
     ]
    },
    {
     "data": {
      "image/png": "[encoded data removed]",
      "text/plain": [
       "<Figure size 432x288 with 2 Axes>"
      ]
     },
     "metadata": {
      "needs_background": "light"
     },
     "output_type": "display_data"
    }
   ],
   "source": [
    "#Intializing Classifiers\n",
    "from sklearn.svm import SVC\n",
    "\n",
    "rnd_state=42\n",
    "\n",
    "#SupportVectorMachine Classifier Training\n",
    "best_sub_model=SVC(gamma='scale',class_weight='balanced',random_state=rnd_state,C=1,kernel='rbf')\n",
    "best_sub_model.fit(X_sub_train,y_sub_train)\n",
    "\n",
    "#Predicting/Testing\n",
    "y_sub_pred=best_sub_model.predict(X_sub_test)\n",
    "\n",
    "from sklearn.metrics import ConfusionMatrixDisplay\n",
    "from sklearn.metrics import precision_recall_fscore_support\n",
    "from sklearn.metrics import confusion_matrix\n",
    "\n",
    "#Metrics - Accuracy\n",
    "print(f'Accuracy_subject: {best_sub_model.score(X_sub_test,y_sub_test)*100:.4f}%')\n",
    "\n",
    "#Metrics - Precision, Recall and F1_Score\n",
    "y_sub_pred=best_sub_model.predict(X_sub_test)\n",
    "(p,r,f1,s)=precision_recall_fscore_support(y_sub_test, y_sub_pred, average=None, labels=[0,1])\n",
    "labels=['NonSpam','Spam']\n",
    "print(f\"\\n{'Label':^7} {'Precision':^17} {'Recall':^5} {'F1_Score':^15} {'Support'}\")\n",
    "for i in range(len(labels)):\n",
    "    print(f\"{labels[i]:^7}{p[i]:^19.4f}{r[i]:^7.4f}{f1[i]:^17.4f}{s[i]}\")\n",
    "\n",
    "#Metrics - Confusion Matrix\n",
    "print(f'\\nConfusion Matrix: \\n')\n",
    "disp = ConfusionMatrixDisplay(confusion_matrix=confusion_matrix(y_sub_test,y_sub_pred),display_labels=labels)\n",
    "disp.plot(cmap='Greens')\n",
    "plt.show()"
   ]
  },
  {
   "cell_type": "markdown",
   "metadata": {},
   "source": [
    "# Message"
   ]
  },
  {
   "cell_type": "markdown",
   "metadata": {},
   "source": [
    "### Dataset subset selection"
   ]
  },
  {
   "cell_type": "code",
   "execution_count": 3,
   "metadata": {},
   "outputs": [
    {
     "name": "stdout",
     "output_type": "stream",
     "text": [
      "(16832, 3)\n"
     ]
    }
   ],
   "source": [
    "req_split_percent=50\n",
    "db, _, db['label'], _ = train_test_split(df.iloc[:,:-1], df.iloc[:,-1], train_size=(req_split_percent/100), random_state=42,stratify=df.iloc[:,-1])\n",
    "print(db.shape)"
   ]
  },
  {
   "cell_type": "markdown",
   "metadata": {},
   "source": [
    "### Applying Tfidf Vectorization on message data"
   ]
  },
  {
   "cell_type": "code",
   "execution_count": 4,
   "metadata": {},
   "outputs": [
    {
     "name": "stdout",
     "output_type": "stream",
     "text": [
      "Sparse matrix of size (16832, 91937) has 1363778 elements, 0.0881% dense\n"
     ]
    }
   ],
   "source": [
    "msg_vectorizer=TfidfVectorizer()\n",
    "message=msg_vectorizer.fit_transform(db['Message'])\n",
    "nof_elements_msg=int(str(message.__str__).split(' ')[str(message.__str__).split(' ').index('stored')-1])\n",
    "print(f'Sparse matrix of size {message.shape} has {nof_elements_msg} elements, {nof_elements_msg/(message.shape[0]*message.shape[1])*100:.4f}% dense')"
   ]
  },
  {
   "cell_type": "markdown",
   "metadata": {},
   "source": [
    "### Splitting the dataset into training and testing data"
   ]
  },
  {
   "cell_type": "code",
   "execution_count": 5,
   "metadata": {},
   "outputs": [],
   "source": [
    "X_msg_train, X_msg_test, y_msg_train, y_msg_test = train_test_split(message, db['label'], test_size=0.33, random_state=42)\n",
    "X_msg_train_array = X_msg_train.toarray()\n",
    "y_msg_train_array = y_msg_train.to_numpy()\n",
    "X_msg_test_array = X_msg_test.toarray()\n",
    "y_msg_test_array = y_msg_test.to_numpy()"
   ]
  },
  {
   "cell_type": "markdown",
   "metadata": {},
   "source": [
    "### Defining the model"
   ]
  },
  {
   "cell_type": "code",
   "execution_count": 6,
   "metadata": {},
   "outputs": [],
   "source": [
    "# size/shape of dataframe\n",
    "n_samples = X_msg_train_array.shape[0]\n",
    "n_features = X_msg_train_array.shape[1]"
   ]
  },
  {
   "cell_type": "code",
   "execution_count": 7,
   "metadata": {},
   "outputs": [],
   "source": [
    "# define and initialize the model\n",
    "my_msg_classifier = Sequential()\n",
    "\n",
    "# Adding the input layer AND the first hidden layer\n",
    "my_msg_classifier.add(Dense(units = 20, kernel_initializer = 'uniform',\n",
    "                        activation = 'tanh', input_dim = n_features))\n",
    "\n",
    "# Adding the second hidden layer\n",
    "my_msg_classifier.add(Dense(units = 8, kernel_initializer = 'uniform',\n",
    "                                                    activation = 'sigmoid'))\n",
    "\n",
    "# Adding the last (output) layer\n",
    "my_msg_classifier.add(Dense(units = 1, kernel_initializer = 'uniform',\n",
    "                        activation = 'sigmoid'))\n",
    "\n",
    "# Compiling the ANN\n",
    "my_msg_classifier.compile(optimizer = 'adam', loss = 'binary_crossentropy',\n",
    "                      metrics = ['accuracy'])"
   ]
  },
  {
   "cell_type": "code",
   "execution_count": 20,
   "metadata": {},
   "outputs": [
    {
     "name": "stdout",
     "output_type": "stream",
     "text": [
      "Model: \"sequential_1\"\n",
      "_________________________________________________________________\n",
      " Layer (type)                Output Shape              Param #   \n",
      "=================================================================\n",
      " dense_3 (Dense)             (None, 20)                1284860   \n",
      "                                                                 \n",
      " dense_4 (Dense)             (None, 8)                 168       \n",
      "                                                                 \n",
      " dense_5 (Dense)             (None, 1)                 9         \n",
      "                                                                 \n",
      "=================================================================\n",
      "Total params: 1,285,037\n",
      "Trainable params: 1,285,037\n",
      "Non-trainable params: 0\n",
      "_________________________________________________________________\n",
      "None\n"
     ]
    }
   ],
   "source": [
    "#Display the model\n",
    "print (my_msg_classifier.summary())"
   ]
  },
  {
   "cell_type": "markdown",
   "metadata": {},
   "source": [
    "### Training the ANN with the training dataset"
   ]
  },
  {
   "cell_type": "code",
   "execution_count": 8,
   "metadata": {},
   "outputs": [
    {
     "name": "stdout",
     "output_type": "stream",
     "text": [
      "Epoch 1/50\n",
      "903/903 [==============================] - 8s 7ms/step - loss: 0.3735 - accuracy: 0.8783 - val_loss: 0.1285 - val_accuracy: 0.9867\n",
      "Epoch 2/50\n",
      "903/903 [==============================] - 6s 6ms/step - loss: 0.0796 - accuracy: 0.9905 - val_loss: 0.0637 - val_accuracy: 0.9867\n",
      "Epoch 3/50\n",
      "903/903 [==============================] - 5s 6ms/step - loss: 0.0370 - accuracy: 0.9946 - val_loss: 0.0474 - val_accuracy: 0.9894\n",
      "Epoch 4/50\n",
      "903/903 [==============================] - 6s 6ms/step - loss: 0.0224 - accuracy: 0.9959 - val_loss: 0.0418 - val_accuracy: 0.9894\n",
      "Epoch 5/50\n",
      "903/903 [==============================] - 5s 6ms/step - loss: 0.0155 - accuracy: 0.9963 - val_loss: 0.0412 - val_accuracy: 0.9880\n",
      "Epoch 6/50\n",
      "903/903 [==============================] - 6s 6ms/step - loss: 0.0125 - accuracy: 0.9973 - val_loss: 0.0413 - val_accuracy: 0.9880\n",
      "Epoch 7/50\n",
      "903/903 [==============================] - 6s 6ms/step - loss: 0.0113 - accuracy: 0.9973 - val_loss: 0.0426 - val_accuracy: 0.9880\n",
      "Epoch 8/50\n",
      "903/903 [==============================] - 6s 6ms/step - loss: 0.0103 - accuracy: 0.9973 - val_loss: 0.0445 - val_accuracy: 0.9880\n",
      "Epoch 9/50\n",
      "903/903 [==============================] - 5s 6ms/step - loss: 0.0099 - accuracy: 0.9972 - val_loss: 0.0456 - val_accuracy: 0.9871\n",
      "Epoch 10/50\n",
      "903/903 [==============================] - 6s 6ms/step - loss: 0.0090 - accuracy: 0.9973 - val_loss: 0.0476 - val_accuracy: 0.9867\n",
      "Epoch 11/50\n",
      "903/903 [==============================] - 6s 6ms/step - loss: 0.0079 - accuracy: 0.9975 - val_loss: 0.0496 - val_accuracy: 0.9876\n",
      "Epoch 12/50\n",
      "903/903 [==============================] - 6s 6ms/step - loss: 0.0080 - accuracy: 0.9976 - val_loss: 0.0492 - val_accuracy: 0.9871\n",
      "Epoch 13/50\n",
      "903/903 [==============================] - 5s 6ms/step - loss: 0.0074 - accuracy: 0.9977 - val_loss: 0.0509 - val_accuracy: 0.9863\n",
      "Epoch 14/50\n",
      "903/903 [==============================] - 6s 6ms/step - loss: 0.0071 - accuracy: 0.9977 - val_loss: 0.0519 - val_accuracy: 0.9867\n",
      "Epoch 15/50\n",
      "903/903 [==============================] - 6s 6ms/step - loss: 0.0072 - accuracy: 0.9977 - val_loss: 0.0521 - val_accuracy: 0.9867\n",
      "Epoch 16/50\n",
      "903/903 [==============================] - 6s 6ms/step - loss: 0.0069 - accuracy: 0.9977 - val_loss: 0.0540 - val_accuracy: 0.9867\n",
      "Epoch 17/50\n",
      "903/903 [==============================] - 6s 6ms/step - loss: 0.0069 - accuracy: 0.9972 - val_loss: 0.0540 - val_accuracy: 0.9858\n",
      "Epoch 18/50\n",
      "903/903 [==============================] - 5s 6ms/step - loss: 0.0067 - accuracy: 0.9977 - val_loss: 0.0571 - val_accuracy: 0.9849\n",
      "Epoch 19/50\n",
      "903/903 [==============================] - 6s 6ms/step - loss: 0.0068 - accuracy: 0.9977 - val_loss: 0.0589 - val_accuracy: 0.9836\n",
      "Epoch 20/50\n",
      "903/903 [==============================] - 6s 6ms/step - loss: 0.0069 - accuracy: 0.9977 - val_loss: 0.0567 - val_accuracy: 0.9854\n",
      "Epoch 21/50\n",
      "903/903 [==============================] - 6s 6ms/step - loss: 0.0065 - accuracy: 0.9976 - val_loss: 0.0573 - val_accuracy: 0.9854\n",
      "Epoch 22/50\n",
      "903/903 [==============================] - 6s 6ms/step - loss: 0.0067 - accuracy: 0.9975 - val_loss: 0.0573 - val_accuracy: 0.9849\n",
      "Epoch 23/50\n",
      "903/903 [==============================] - 5s 6ms/step - loss: 0.0066 - accuracy: 0.9976 - val_loss: 0.0583 - val_accuracy: 0.9849\n",
      "Epoch 24/50\n",
      "903/903 [==============================] - 6s 6ms/step - loss: 0.0067 - accuracy: 0.9977 - val_loss: 0.0598 - val_accuracy: 0.9832\n",
      "Epoch 25/50\n",
      "903/903 [==============================] - 5s 6ms/step - loss: 0.0067 - accuracy: 0.9975 - val_loss: 0.0584 - val_accuracy: 0.9845\n",
      "Epoch 26/50\n",
      "903/903 [==============================] - 6s 6ms/step - loss: 0.0064 - accuracy: 0.9977 - val_loss: 0.0590 - val_accuracy: 0.9849\n",
      "Epoch 27/50\n",
      "903/903 [==============================] - 6s 6ms/step - loss: 0.0066 - accuracy: 0.9977 - val_loss: 0.0588 - val_accuracy: 0.9849\n",
      "Epoch 28/50\n",
      "903/903 [==============================] - 6s 6ms/step - loss: 0.0066 - accuracy: 0.9977 - val_loss: 0.0594 - val_accuracy: 0.9849\n",
      "Epoch 29/50\n",
      "903/903 [==============================] - 5s 6ms/step - loss: 0.0066 - accuracy: 0.9977 - val_loss: 0.0587 - val_accuracy: 0.9849\n",
      "Epoch 30/50\n",
      "903/903 [==============================] - 6s 6ms/step - loss: 0.0064 - accuracy: 0.9977 - val_loss: 0.0591 - val_accuracy: 0.9854\n",
      "Epoch 31/50\n",
      "903/903 [==============================] - 6s 6ms/step - loss: 0.0064 - accuracy: 0.9977 - val_loss: 0.0594 - val_accuracy: 0.9854\n",
      "Epoch 32/50\n",
      "903/903 [==============================] - 5s 6ms/step - loss: 0.0064 - accuracy: 0.9977 - val_loss: 0.0604 - val_accuracy: 0.9854\n",
      "Epoch 33/50\n",
      "903/903 [==============================] - 6s 6ms/step - loss: 0.0064 - accuracy: 0.9977 - val_loss: 0.0605 - val_accuracy: 0.9858\n",
      "Epoch 34/50\n",
      "903/903 [==============================] - 6s 6ms/step - loss: 0.0061 - accuracy: 0.9976 - val_loss: 0.0604 - val_accuracy: 0.9854\n",
      "Epoch 35/50\n",
      "903/903 [==============================] - 6s 6ms/step - loss: 0.0064 - accuracy: 0.9977 - val_loss: 0.0606 - val_accuracy: 0.9849\n",
      "Epoch 36/50\n",
      "903/903 [==============================] - 6s 6ms/step - loss: 0.0064 - accuracy: 0.9977 - val_loss: 0.0607 - val_accuracy: 0.9849\n",
      "Epoch 37/50\n",
      "903/903 [==============================] - 6s 6ms/step - loss: 0.0063 - accuracy: 0.9977 - val_loss: 0.0607 - val_accuracy: 0.9858\n",
      "Epoch 38/50\n",
      "903/903 [==============================] - 5s 6ms/step - loss: 0.0065 - accuracy: 0.9977 - val_loss: 0.0615 - val_accuracy: 0.9845\n",
      "Epoch 39/50\n",
      "903/903 [==============================] - 6s 6ms/step - loss: 0.0060 - accuracy: 0.9975 - val_loss: 0.0642 - val_accuracy: 0.9845\n",
      "Epoch 40/50\n",
      "903/903 [==============================] - 5s 6ms/step - loss: 0.0065 - accuracy: 0.9977 - val_loss: 0.0616 - val_accuracy: 0.9854\n",
      "Epoch 41/50\n",
      "903/903 [==============================] - 6s 6ms/step - loss: 0.0064 - accuracy: 0.9977 - val_loss: 0.0622 - val_accuracy: 0.9845\n",
      "Epoch 42/50\n",
      "903/903 [==============================] - 6s 6ms/step - loss: 0.0063 - accuracy: 0.9977 - val_loss: 0.0627 - val_accuracy: 0.9845\n",
      "Epoch 43/50\n",
      "903/903 [==============================] - 6s 6ms/step - loss: 0.0064 - accuracy: 0.9977 - val_loss: 0.0625 - val_accuracy: 0.9845\n",
      "Epoch 44/50\n",
      "903/903 [==============================] - 6s 6ms/step - loss: 0.0064 - accuracy: 0.9977 - val_loss: 0.0620 - val_accuracy: 0.9854\n",
      "Epoch 45/50\n",
      "903/903 [==============================] - 6s 6ms/step - loss: 0.0062 - accuracy: 0.9977 - val_loss: 0.0635 - val_accuracy: 0.9854\n",
      "Epoch 46/50\n",
      "903/903 [==============================] - 6s 6ms/step - loss: 0.0063 - accuracy: 0.9977 - val_loss: 0.0628 - val_accuracy: 0.9845\n",
      "Epoch 47/50\n",
      "903/903 [==============================] - 5s 6ms/step - loss: 0.0063 - accuracy: 0.9977 - val_loss: 0.0633 - val_accuracy: 0.9854\n",
      "Epoch 48/50\n",
      "903/903 [==============================] - 6s 7ms/step - loss: 0.0064 - accuracy: 0.9977 - val_loss: 0.0632 - val_accuracy: 0.9849\n",
      "Epoch 49/50\n",
      "903/903 [==============================] - 5s 6ms/step - loss: 0.0063 - accuracy: 0.9977 - val_loss: 0.0636 - val_accuracy: 0.9854\n",
      "Epoch 50/50\n",
      "903/903 [==============================] - 6s 6ms/step - loss: 0.0061 - accuracy: 0.9977 - val_loss: 0.0679 - val_accuracy: 0.9854\n"
     ]
    }
   ],
   "source": [
    "msg_history = my_msg_classifier.fit(X_msg_train_array, y_msg_train_array, validation_split=0.2,\n",
    "                            batch_size = 10, epochs = 50)"
   ]
  },
  {
   "cell_type": "markdown",
   "metadata": {},
   "source": [
    "### List all the data in history"
   ]
  },
  {
   "cell_type": "code",
   "execution_count": 22,
   "metadata": {},
   "outputs": [
    {
     "name": "stdout",
     "output_type": "stream",
     "text": [
      "dict_keys(['loss', 'accuracy', 'val_loss', 'val_accuracy'])\n"
     ]
    }
   ],
   "source": [
    "print(msg_history.history.keys())"
   ]
  },
  {
   "cell_type": "code",
   "execution_count": 9,
   "metadata": {},
   "outputs": [
    {
     "data": {
      "image/png": "[encoded data removed]",
      "text/plain": [
       "<Figure size 432x288 with 1 Axes>"
      ]
     },
     "metadata": {
      "needs_background": "light"
     },
     "output_type": "display_data"
    }
   ],
   "source": [
    "# Plot the accuracy for both train and validation set\n",
    "plt.subplots() # open a new plot\n",
    "plt.plot(msg_history.history['accuracy'])\n",
    "plt.plot(msg_history.history['val_accuracy'])\n",
    "plt.title('model accuracy')\n",
    "plt.ylabel('accuracy')\n",
    "plt.xlabel('epoch')\n",
    "plt.legend(['train', 'validation'])\n",
    "plt.show()"
   ]
  },
  {
   "cell_type": "code",
   "execution_count": 10,
   "metadata": {},
   "outputs": [
    {
     "data": {
      "image/png": "[encoded data removed]",
      "text/plain": [
       "<Figure size 432x288 with 1 Axes>"
      ]
     },
     "metadata": {
      "needs_background": "light"
     },
     "output_type": "display_data"
    }
   ],
   "source": [
    "# Plot the loss for both train and validation set\n",
    "plt.subplots() # open a new plot\n",
    "plt.plot(msg_history.history['loss'])\n",
    "plt.plot(msg_history.history['val_loss'])\n",
    "plt.title('model loss')\n",
    "plt.ylabel('loss')\n",
    "plt.xlabel('epoch')\n",
    "plt.legend(['train', 'validation'])\n",
    "plt.show()\n"
   ]
  },
  {
   "cell_type": "markdown",
   "metadata": {},
   "source": [
    "### Making predictions with the model"
   ]
  },
  {
   "cell_type": "code",
   "execution_count": 11,
   "metadata": {},
   "outputs": [],
   "source": [
    "# Predicting the Train set results\n",
    "#y_msg_pred_train = my_msg_classifier.predict(X_msg_train_array)\n",
    "#y_msg_pred_train = (y_msg_pred_train > 0.5)\n",
    "\n",
    "# Predicting the Test set results\n",
    "y_msg_pred_test = my_msg_classifier.predict(X_msg_test_array)\n",
    "y_msg_pred_test = (y_msg_pred_test > 0.5)"
   ]
  },
  {
   "cell_type": "markdown",
   "metadata": {},
   "source": [
    "### Metrics"
   ]
  },
  {
   "cell_type": "code",
   "execution_count": 12,
   "metadata": {},
   "outputs": [
    {
     "name": "stdout",
     "output_type": "stream",
     "text": [
      "Accuracy: 98.2718%\n",
      "\n",
      " Label      Precision     Recall    F1_Score     Support\n",
      "NonSpam      0.9892       0.9755      0.9823      2733\n",
      " Spam        0.9766       0.9897      0.9831      2822\n",
      "\n",
      "Confusion Matrix: \n",
      "\n"
     ]
    },
    {
     "data": {
      "image/png": "[encoded data removed]",
      "text/plain": [
       "<Figure size 432x288 with 2 Axes>"
      ]
     },
     "metadata": {
      "needs_background": "light"
     },
     "output_type": "display_data"
    }
   ],
   "source": [
    "from sklearn.metrics import accuracy_score\n",
    "from sklearn.metrics import precision_recall_fscore_support\n",
    "from sklearn.metrics import confusion_matrix\n",
    "from sklearn.metrics import ConfusionMatrixDisplay\n",
    "\n",
    "#Metrics - Accuracy\n",
    "print(f'Accuracy: {accuracy_score(y_msg_test,y_msg_pred_test)*100:.4f}%')\n",
    "\n",
    "#Metrics - Precision, Recall and F1_Score\n",
    "(p,r,f1,s)=precision_recall_fscore_support(y_msg_test, y_msg_pred_test, average=None, labels=[0,1])\n",
    "labels=['NonSpam','Spam']\n",
    "print(f\"\\n{'Label':^7} {'Precision':^17} {'Recall':^5} {'F1_Score':^15} {'Support'}\")\n",
    "for i in range(len(labels)):\n",
    "    print(f\"{labels[i]:^7}{p[i]:^19.4f}{r[i]:^7.4f}{f1[i]:^17.4f}{s[i]}\")\n",
    "\n",
    "#Metrics - Confusion Matrix\n",
    "print(f'\\nConfusion Matrix: \\n')\n",
    "disp = ConfusionMatrixDisplay(confusion_matrix=confusion_matrix(y_msg_test,y_msg_pred_test),display_labels=labels)\n",
    "disp.plot(cmap='Greens')\n",
    "plt.show()"
   ]
  },
  {
   "cell_type": "markdown",
   "metadata": {},
   "source": [
    "### SVM training, testing, and scoring"
   ]
  },
  {
   "cell_type": "code",
   "execution_count": 13,
   "metadata": {},
   "outputs": [
    {
     "name": "stdout",
     "output_type": "stream",
     "text": [
      "Accuracy_subject: 98.0198%\n",
      "\n",
      " Label      Precision     Recall    F1_Score     Support\n",
      "NonSpam      0.9929       0.9667      0.9796      2733\n",
      " Spam        0.9686       0.9933      0.9808      2822\n",
      "\n",
      "Confusion Matrix: \n",
      "\n"
     ]
    },
    {
     "data": {
      "image/png": "[encoded data removed]",
      "text/plain": [
       "<Figure size 432x288 with 2 Axes>"
      ]
     },
     "metadata": {
      "needs_background": "light"
     },
     "output_type": "display_data"
    }
   ],
   "source": [
    "#Intializing Classifiers\n",
    "from sklearn.svm import SVC\n",
    "\n",
    "rnd_state=42\n",
    "\n",
    "#SupportVectorMachine Classifier Training\n",
    "best_msg_model=SVC(gamma='scale',class_weight='balanced',random_state=rnd_state,C=1,kernel='linear')\n",
    "best_msg_model.fit(X_msg_train,y_msg_train)\n",
    "\n",
    "#Predicting/Testing\n",
    "y_msg_pred=best_msg_model.predict(X_msg_test)\n",
    "\n",
    "from sklearn.metrics import ConfusionMatrixDisplay\n",
    "from sklearn.metrics import precision_recall_fscore_support\n",
    "from sklearn.metrics import confusion_matrix\n",
    "\n",
    "#Metrics - Accuracy\n",
    "print(f'Accuracy_subject: {best_msg_model.score(X_msg_test,y_msg_test)*100:.4f}%')\n",
    "\n",
    "#Metrics - Precision, Recall and F1_Score\n",
    "y_msg_pred=best_msg_model.predict(X_msg_test)\n",
    "(p,r,f1,s)=precision_recall_fscore_support(y_msg_test, y_msg_pred, average=None, labels=[0,1])\n",
    "labels=['NonSpam','Spam']\n",
    "print(f\"\\n{'Label':^7} {'Precision':^17} {'Recall':^5} {'F1_Score':^15} {'Support'}\")\n",
    "for i in range(len(labels)):\n",
    "    print(f\"{labels[i]:^7}{p[i]:^19.4f}{r[i]:^7.4f}{f1[i]:^17.4f}{s[i]}\")\n",
    "\n",
    "#Metrics - Confusion Matrix\n",
    "print(f'\\nConfusion Matrix: \\n')\n",
    "disp = ConfusionMatrixDisplay(confusion_matrix=confusion_matrix(y_msg_test,y_msg_pred),display_labels=labels)\n",
    "disp.plot(cmap='Greens')\n",
    "plt.show()"
   ]
  }
 ],
 "metadata": {
  "interpreter": {
   "hash": "be55d61f72692b8f4b33a02b09055df1c0ae60460d8fa9a716772ba027fe3192"
  },
  "kernelspec": {
   "display_name": "Python 3 (ipykernel)",
   "language": "python",
   "name": "python3"
  },
  "language_info": {
   "codemirror_mode": {
    "name": "ipython",
    "version": 3
   },
   "file_extension": ".py",
   "mimetype": "text/x-python",
   "name": "python",
   "nbconvert_exporter": "python",
   "pygments_lexer": "ipython3",
   "version": "3.8.11"
  }
 },
 "nbformat": 4,
 "nbformat_minor": 2
}
