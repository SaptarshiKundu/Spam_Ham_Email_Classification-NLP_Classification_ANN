{
 "cells": [
  {
   "cell_type": "markdown",
   "id": "b3068510",
   "metadata": {},
   "source": [
    "### Import necessary libraries"
   ]
  },
  {
   "cell_type": "code",
   "execution_count": 1,
   "id": "772980a2",
   "metadata": {},
   "outputs": [],
   "source": [
    "import pandas as pd\n",
    "import nltk\n",
    "import re\n",
    "import time\n",
    "import matplotlib.pyplot as plt\n",
    "from nltk.tokenize import sent_tokenize\n",
    "from nltk.tokenize import word_tokenize\n",
    "from nltk.stem import WordNetLemmatizer\n",
    "from nltk.corpus import stopwords\n",
    "#nltk.download('wordnet')"
   ]
  },
  {
   "cell_type": "markdown",
   "id": "a09b1dd1",
   "metadata": {},
   "source": [
    "### Read data into dataframe"
   ]
  },
  {
   "cell_type": "code",
   "execution_count": 2,
   "id": "0a05e113",
   "metadata": {},
   "outputs": [
    {
     "data": {
      "text/html": [
       "<div>\n",
       "<style scoped>\n",
       "    .dataframe tbody tr th:only-of-type {\n",
       "        vertical-align: middle;\n",
       "    }\n",
       "\n",
       "    .dataframe tbody tr th {\n",
       "        vertical-align: top;\n",
       "    }\n",
       "\n",
       "    .dataframe thead th {\n",
       "        text-align: right;\n",
       "    }\n",
       "</style>\n",
       "<table border=\"1\" class=\"dataframe\">\n",
       "  <thead>\n",
       "    <tr style=\"text-align: right;\">\n",
       "      <th></th>\n",
       "      <th>Subject</th>\n",
       "      <th>Message</th>\n",
       "      <th>label</th>\n",
       "    </tr>\n",
       "  </thead>\n",
       "  <tbody>\n",
       "    <tr>\n",
       "      <th>0</th>\n",
       "      <td>christmas tree farm pictures</td>\n",
       "      <td>(no_message_text)</td>\n",
       "      <td>0</td>\n",
       "    </tr>\n",
       "    <tr>\n",
       "      <th>1</th>\n",
       "      <td>vastar resources , inc .</td>\n",
       "      <td>gary , production from the high island larger ...</td>\n",
       "      <td>0</td>\n",
       "    </tr>\n",
       "    <tr>\n",
       "      <th>2</th>\n",
       "      <td>calpine daily gas nomination</td>\n",
       "      <td>- calpine daily gas nomination 1 . doc</td>\n",
       "      <td>0</td>\n",
       "    </tr>\n",
       "    <tr>\n",
       "      <th>3</th>\n",
       "      <td>re : issue</td>\n",
       "      <td>fyi - see note below - already done .\\nstella\\...</td>\n",
       "      <td>0</td>\n",
       "    </tr>\n",
       "    <tr>\n",
       "      <th>4</th>\n",
       "      <td>meter 7268 nov allocation</td>\n",
       "      <td>fyi .\\n- - - - - - - - - - - - - - - - - - - -...</td>\n",
       "      <td>0</td>\n",
       "    </tr>\n",
       "    <tr>\n",
       "      <th>5</th>\n",
       "      <td>mcmullen gas for 11 / 99</td>\n",
       "      <td>jackie ,\\nsince the inlet to 3 river plant is ...</td>\n",
       "      <td>0</td>\n",
       "    </tr>\n",
       "    <tr>\n",
       "      <th>6</th>\n",
       "      <td>meter 1517 - jan 1999</td>\n",
       "      <td>george ,\\ni need the following done :\\njan 13\\...</td>\n",
       "      <td>0</td>\n",
       "    </tr>\n",
       "    <tr>\n",
       "      <th>7</th>\n",
       "      <td>duns number changes</td>\n",
       "      <td>fyi\\n- - - - - - - - - - - - - - - - - - - - -...</td>\n",
       "      <td>0</td>\n",
       "    </tr>\n",
       "    <tr>\n",
       "      <th>8</th>\n",
       "      <td>king ranch</td>\n",
       "      <td>there are two fields of gas that i am having d...</td>\n",
       "      <td>0</td>\n",
       "    </tr>\n",
       "    <tr>\n",
       "      <th>9</th>\n",
       "      <td>re : entex transistion</td>\n",
       "      <td>thanks so much for the memo . i would like to ...</td>\n",
       "      <td>0</td>\n",
       "    </tr>\n",
       "  </tbody>\n",
       "</table>\n",
       "</div>"
      ],
      "text/plain": [
       "                        Subject  \\\n",
       "0  christmas tree farm pictures   \n",
       "1      vastar resources , inc .   \n",
       "2  calpine daily gas nomination   \n",
       "3                    re : issue   \n",
       "4     meter 7268 nov allocation   \n",
       "5      mcmullen gas for 11 / 99   \n",
       "6         meter 1517 - jan 1999   \n",
       "7           duns number changes   \n",
       "8                    king ranch   \n",
       "9        re : entex transistion   \n",
       "\n",
       "                                             Message  label  \n",
       "0                                  (no_message_text)      0  \n",
       "1  gary , production from the high island larger ...      0  \n",
       "2             - calpine daily gas nomination 1 . doc      0  \n",
       "3  fyi - see note below - already done .\\nstella\\...      0  \n",
       "4  fyi .\\n- - - - - - - - - - - - - - - - - - - -...      0  \n",
       "5  jackie ,\\nsince the inlet to 3 river plant is ...      0  \n",
       "6  george ,\\ni need the following done :\\njan 13\\...      0  \n",
       "7  fyi\\n- - - - - - - - - - - - - - - - - - - - -...      0  \n",
       "8  there are two fields of gas that i am having d...      0  \n",
       "9  thanks so much for the memo . i would like to ...      0  "
      ]
     },
     "execution_count": 2,
     "metadata": {},
     "output_type": "execute_result"
    }
   ],
   "source": [
    "db=pd.read_csv('data/enron_spam_ham_email_clean.csv')\n",
    "db.head(10)"
   ]
  },
  {
   "cell_type": "markdown",
   "id": "7725fc5f",
   "metadata": {},
   "source": [
    "### Define processing functions"
   ]
  },
  {
   "cell_type": "code",
   "execution_count": 3,
   "id": "b95ab566",
   "metadata": {},
   "outputs": [],
   "source": [
    "lemmatizer = WordNetLemmatizer()\n",
    "\n",
    "def regex_processing(msg):\n",
    "    msg=re.sub('[^a-z\\.]',\" \",msg.lower()) #lowercasing and removing every character which is not an alphabet or '.'\n",
    "    msg=re.sub('\\s+',\" \",msg)              #removing extra whitespaces\n",
    "    msg=re.sub('\\.+\\s+\\.',\".\",msg)         #removing double dots to avoid issues during splitting into sentences\n",
    "    return msg\n",
    "\n",
    "def sentence_dropping(msg):\n",
    "    n=2                                    #attempting to drop sentences which don't have more than 2 words in it\n",
    "    tmp=[sent for sent in sent_tokenize(msg) if len(sent.split())>n]\n",
    "    if not tmp:\n",
    "        return msg\n",
    "    return ' '.join(tmp)\n",
    "\n",
    "ref_tag={'NN':'n','NNS':'n','NNP':'n','NNPS':'n',\n",
    "         'VB':'v','VBD':'v','VBG':'v','VBN':'v','VBP':'v','VBZ':'v',\n",
    "         'JJ':'a','JJR':'a','JJS':'a',\n",
    "         'RB':'r','RBR':'r','RBS':'r',\n",
    "         'ADJ_SAT':'s'}\n",
    "\n",
    "stop_words=set(stopwords.words('english'))\n",
    "\n",
    "def lemma(msg,def_txt):\n",
    "    tmp=[]\n",
    "    for sentence in sent_tokenize(sentence_dropping(regex_processing(msg))):\n",
    "        tags=nltk.pos_tag(nltk.word_tokenize(sentence))\n",
    "        lemmatized=' '.join([lemmatizer.lemmatize(word) if ref_tag.get(tag,\"\")==\"\" else lemmatizer.lemmatize(word,ref_tag.get(tag)) for word,tag in tags])\n",
    "        \n",
    "        filtered=lemmatized\n",
    "        tmp_var=' '.join([word for word in word_tokenize(lemmatized) if word not in stop_words])\n",
    "        if len(tmp_var):\n",
    "            filtered=tmp_var\n",
    "            \n",
    "        tmp.append(sentence_dropping(filtered))\n",
    "    \n",
    "    if not len(tmp):\n",
    "        return def_txt\n",
    "    \n",
    "    return ' '.join(tmp)"
   ]
  },
  {
   "cell_type": "markdown",
   "id": "7ec307a4",
   "metadata": {},
   "source": [
    "### Process 'Subjects' column"
   ]
  },
  {
   "cell_type": "code",
   "execution_count": 4,
   "id": "22e42e5f",
   "metadata": {},
   "outputs": [
    {
     "name": "stdout",
     "output_type": "stream",
     "text": [
      "Total Elapsed (Subject): 0 m 42 s\n"
     ]
    }
   ],
   "source": [
    "t=time.time()\n",
    "\n",
    "for i in range(len(db['Subject'])):\n",
    "    db.loc[i,'Subject']=lemma(db.loc[i,'Subject'],'subject')\n",
    "    \n",
    "print(f'Total Elapsed (Subject): {(time.time()-t)//60:.0f} m {(time.time()-t)%60:.0f} s')"
   ]
  },
  {
   "cell_type": "markdown",
   "id": "33dfebcf",
   "metadata": {},
   "source": [
    "### Process 'Messages' column"
   ]
  },
  {
   "cell_type": "code",
   "execution_count": 5,
   "id": "73aa892a",
   "metadata": {},
   "outputs": [
    {
     "name": "stdout",
     "output_type": "stream",
     "text": [
      "Total Elapsed (Message): 6 m 41 s\n"
     ]
    }
   ],
   "source": [
    "t=time.time()\n",
    "\n",
    "for i in range(len(db['Message'])):\n",
    "    db.loc[i,'Message']=lemma(db.loc[i,'Message'],'message text')\n",
    "    \n",
    "print(f'Total Elapsed (Message): {(time.time()-t)//60:.0f} m {(time.time()-t)%60:.0f} s')\n",
    "\n",
    "db.to_csv(\"data/enron_spam_ham_email_processed_v2.csv\", index=False)"
   ]
  }
 ],
 "metadata": {
  "kernelspec": {
   "display_name": "Python 3 (ipykernel)",
   "language": "python",
   "name": "python3"
  },
  "language_info": {
   "codemirror_mode": {
    "name": "ipython",
    "version": 3
   },
   "file_extension": ".py",
   "mimetype": "text/x-python",
   "name": "python",
   "nbconvert_exporter": "python",
   "pygments_lexer": "ipython3",
   "version": "3.8.12"
  }
 },
 "nbformat": 4,
 "nbformat_minor": 5
}
